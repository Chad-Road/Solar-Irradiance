{
 "cells": [
  {
   "cell_type": "markdown",
   "metadata": {},
   "source": [
    "# Efficient Solar Simulation With LEDs\n",
    "\n",
    "The goal of this project is to mimic sea-level solar radiation output in both wavelength and time of day. Solar radiation wavlengths range far beyond the visible light spectrum that are commonly used for indoor food growing and there is a growing body of evidence that lack of ultraviolet(UV) and infrared (IR) light leads to underproductions of key nutrients and phytochemicals. Similarly, while most indoor growing gives a constant amount of light during its on/off cycle, the sun goes from extremely weak light during sunrise and sunset and strong light during midday. To more completely mimic solar radiation in a controlled indoor environment we must be able to mimic the wavelength--including total energy from each wavelength--as well as the time course of that radiation.\n",
    "\n",
    "To accomplish this task we must identify:\n",
    "1. The types of solar radiation that pass through the atmosphere to ground level\n",
    "2. The amount (in lumens and joules) of each type of solar radiation that makes it to ground level\n",
    "3. The amount of each type of solar radiation during different times of day\n",
    "4. The intensity of solar radiation and day length at different latitudes\n",
    "5. The intensity of solar radiation and day length during different seasons\n",
    "6. What types of light fixtures can produce these types (and ideally at an efficient cost)\n",
    "\n",
    "\n",
    "\n"
   ]
  },
  {
   "cell_type": "markdown",
   "metadata": {},
   "source": [
    "## Types of solar radiation that make it to ground-level (pass through the atmosphere)\n",
    "\n",
    "### Types of solar radation emmitted by the sun\n",
    "\n",
    "Type of radiation and its wavelength (in nanometers)\n",
    "1. UV-C                 100-280nm\n",
    "2. UV-B                 280-315nm\n",
    "3. UV-A                 315-400nm\n",
    "4. Visible-Blue         400-500nm\n",
    "5. Visible-Green        500-565nm\n",
    "6. Visible-Yellow       \n",
    "7. Visible-Red\n",
    "8. Near Infrared (NIR)\n",
    "9. Infrared\n",
    "10. Far Infrared\n",
    "\n",
    "\n",
    "Note: There are many ways to differentiate visible light. Choosing rgb (red, green, blue) is standard in many optics applications and was chosen as a default with yellow being added due solar energy output peaking in the yellow band.\n",
    "\n"
   ]
  },
  {
   "cell_type": "markdown",
   "metadata": {},
   "source": [
    "## Amount and type of solar radiation at sea level\n",
    "\n",
    "<img src=\"media/solar_spec.png\" width=\"500\"/>\n",
    "\n"
   ]
  },
  {
   "cell_type": "markdown",
   "metadata": {},
   "source": []
  },
  {
   "cell_type": "markdown",
   "metadata": {},
   "source": []
  },
  {
   "cell_type": "markdown",
   "metadata": {},
   "source": [
    "### Notes\n",
    "\n"
   ]
  },
  {
   "cell_type": "markdown",
   "metadata": {},
   "source": [
    "### References"
   ]
  }
 ],
 "metadata": {
  "interpreter": {
   "hash": "72953c70c02aac3685e869f296857f370c26af7896ba9befb536cb0bb4a0e008"
  },
  "kernelspec": {
   "display_name": "Python 3.8.12 64-bit (conda)",
   "language": "python",
   "name": "python3"
  },
  "language_info": {
   "name": "python",
   "version": "3.8.12"
  },
  "orig_nbformat": 4
 },
 "nbformat": 4,
 "nbformat_minor": 2
}
